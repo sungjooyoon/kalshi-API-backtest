{
 "cells": [
  {
   "cell_type": "code",
   "execution_count": 3,
   "metadata": {},
   "outputs": [
    {
     "name": "stderr",
     "output_type": "stream",
     "text": [
      "/Users/sungjooyoon/Library/Python/3.8/lib/python/site-packages/urllib3/__init__.py:35: NotOpenSSLWarning: urllib3 v2 only supports OpenSSL 1.1.1+, currently the 'ssl' module is compiled with 'LibreSSL 2.8.3'. See: https://github.com/urllib3/urllib3/issues/3020\n",
      "  warnings.warn(\n"
     ]
    },
    {
     "name": "stdout",
     "output_type": "stream",
     "text": [
      "{'exchange_active': True, 'trading_active': True}\n"
     ]
    }
   ],
   "source": [
    "# Installations/imports\n",
    "try:\n",
    "    import requests\n",
    "except ModuleNotFoundError:\n",
    "    !pip install requests\n",
    "    import requests\n",
    "\n",
    "try:\n",
    "    import pandas as pd\n",
    "except ModuleNotFoundError:\n",
    "    !pip install pandas\n",
    "    import pandas as pd\n",
    "\n",
    "try:\n",
    "    from KalshiClientsBaseV2 import ExchangeClient\n",
    "    from urllib3.exceptions import HTTPError\n",
    "except ModuleNotFoundError as e:\n",
    "    print(f\"Error: {e}\")\n",
    "    print(\"Please ensure that KalshiClientsBaseV2 is installed correctly.\")\n",
    "    # If it's a package you can install, you might want to try installing it here\n",
    "    # !pip install kalshi-python  # Uncomment this line if you need to install the package\n",
    "\n",
    "import time\n",
    "import json\n",
    "import uuid\n",
    "from datetime import datetime, timedelta\n",
    "from dateutil import parser\n",
    "\n",
    "# Set up account credentials and initialize the ExchangeClient\n",
    "demo_email = \"sungjooyoon@college.harvard.edu\" # change these to be your personal credentials\n",
    "demo_password = \"****************\" # (for extra security, we recommend using a config file)\n",
    "demo_api_base = \"https://demo-api.kalshi.co/trade-api/v2\"\n",
    "\n",
    "exchange_client = ExchangeClient(exchange_api_base=demo_api_base, email=demo_email, password=demo_password)\n",
    "print(exchange_client.get_exchange_status())"
   ]
  },
  {
   "cell_type": "code",
   "execution_count": 4,
   "metadata": {},
   "outputs": [
    {
     "ename": "NameError",
     "evalue": "name 'markets_response' is not defined",
     "output_type": "error",
     "traceback": [
      "\u001b[0;31m---------------------------------------------------------------------------\u001b[0m",
      "\u001b[0;31mNameError\u001b[0m                                 Traceback (most recent call last)",
      "Cell \u001b[0;32mIn[4], line 3\u001b[0m\n\u001b[1;32m      1\u001b[0m \u001b[38;5;66;03m# Next, let's look at event level data by passing an event ticker to the get_event endpoint...\u001b[39;00m\n\u001b[0;32m----> 3\u001b[0m event_ticker \u001b[38;5;241m=\u001b[39m \u001b[43mmarkets_response\u001b[49m[\u001b[38;5;124m'\u001b[39m\u001b[38;5;124mmarkets\u001b[39m\u001b[38;5;124m'\u001b[39m][\u001b[38;5;241m5\u001b[39m][\u001b[38;5;124m'\u001b[39m\u001b[38;5;124mevent_ticker\u001b[39m\u001b[38;5;124m'\u001b[39m]\n\u001b[1;32m      4\u001b[0m event_params \u001b[38;5;241m=\u001b[39m {\u001b[38;5;124m'\u001b[39m\u001b[38;5;124mevent_ticker\u001b[39m\u001b[38;5;124m'\u001b[39m: event_ticker}\n\u001b[1;32m      5\u001b[0m event_response \u001b[38;5;241m=\u001b[39m exchange_client\u001b[38;5;241m.\u001b[39mget_event(\u001b[38;5;241m*\u001b[39m\u001b[38;5;241m*\u001b[39mevent_params)\n",
      "\u001b[0;31mNameError\u001b[0m: name 'markets_response' is not defined"
     ]
    }
   ],
   "source": [
    "# Next, let's look at event level data by passing an event ticker to the get_event endpoint...\n",
    "\n",
    "event_ticker = markets_response['markets'][5]['event_ticker']\n",
    "event_params = {'event_ticker': event_ticker}\n",
    "event_response = exchange_client.get_event(**event_params)\n",
    "\n",
    "print('keys:', event_response.keys())\n",
    "print()\n",
    "print('event object:', event_response['event'])\n",
    "print()\n",
    "print('first market in event_response payload:', event_response['markets'][0])"
   ]
  },
  {
   "cell_type": "code",
   "execution_count": 5,
   "metadata": {},
   "outputs": [
    {
     "name": "stdout",
     "output_type": "stream",
     "text": [
      "No data to save.\n"
     ]
    }
   ],
   "source": [
    "def get_all_markets(exchange_client):\n",
    "    try:\n",
    "        markets_response = exchange_client.get_markets()\n",
    "        return markets_response.get('markets', [])\n",
    "    except Exception as e:\n",
    "        print(f\"Error fetching markets: {e}\")\n",
    "        return []\n",
    "\n",
    "def get_event_data(event_ticker, exchange_client):\n",
    "    try:\n",
    "        event_params = {'event_ticker': event_ticker}\n",
    "        event_response = exchange_client.get_event(**event_params)\n",
    "        return event_response\n",
    "    except Exception as e:\n",
    "        print(f\"Error fetching event data for ticker {event_ticker}: {e}\")\n",
    "        return None\n",
    "\n",
    "def filter_markets(markets):\n",
    "    filtered_markets = []\n",
    "    start_date = datetime(2023, 6, 1)\n",
    "    end_date = datetime(2024, 6, 1)\n",
    "    \n",
    "    for market in markets:\n",
    "        close_time = parser.parse(market['close_time'])\n",
    "        if market['status'] == 'finalized' and start_date <= close_time <= end_date:\n",
    "            filtered_markets.append(market)\n",
    "    \n",
    "    return filtered_markets\n",
    "\n",
    "def process_event_data(event_response):\n",
    "    event_data = []\n",
    "    event = event_response.get('event', {})\n",
    "    markets = event_response.get('markets', [])\n",
    "\n",
    "    for market in markets:\n",
    "        market_id = market['ticker']\n",
    "        resolve_date = parser.parse(market['close_time'])\n",
    "        first_date = resolve_date - timedelta(days=30)\n",
    "        comp_percentage = [round((43200 - i * 30) / 43200, 5) for i in range(1440)]  # every 30 minutes for 30 days\n",
    "        comp_category = ['zero_to_ten_percent', 'ten_to_twenty_percent', 'twenty_to_thirty_percent',\n",
    "                         'thirty_to_forty_percent', 'forty_to_fifty_percent', 'fifty_to_sixty_percent',\n",
    "                         'sixty_to_seventy_percent', 'seventy_to_eighty_percent', 'eighty_to_ninety_percent',\n",
    "                         'ninety_to_hundred_percent']\n",
    "\n",
    "        for comp in range(1440):\n",
    "            comp_time = first_date + timedelta(minutes=comp * 30)\n",
    "            comp_index = int(comp_percentage[comp] * 10)\n",
    "            if comp_index >= len(comp_category):\n",
    "                comp_index = len(comp_category) - 1\n",
    "\n",
    "            for option in [\"yes\", \"no\"]:\n",
    "                price = market['yes_ask'] if option == \"yes\" else market['no_ask']\n",
    "                outcome = 1 if market['result'] == option else 0\n",
    "                yes_or_no = 1 if option == \"yes\" else 0\n",
    "\n",
    "                event_data.append({\n",
    "                    'name': event.get('title', ''),\n",
    "                    'market_id': market_id,\n",
    "                    'option_id': str(uuid.uuid4()),\n",
    "                    'category': event.get('category', ''),\n",
    "                    'choice': market.get('subtitle', ''),\n",
    "                    'yes_or_no': yes_or_no,\n",
    "                    'outcome': outcome,\n",
    "                    'placed_date': comp_time.strftime('%Y-%m-%d %H:%M:%S'),\n",
    "                    'resolve_date': resolve_date.strftime('%Y-%m-%d %H:%M:%S'),\n",
    "                    'first_date': first_date.strftime('%Y-%m-%d %H:%M:%S'),\n",
    "                    'price': price,\n",
    "                    'comp_percentage': comp_percentage[comp],\n",
    "                    'comp_category': comp_category[comp_index],\n",
    "                    'minutes_before': 43200 - comp * 30\n",
    "                })\n",
    "    return event_data\n",
    "\n",
    "def main():\n",
    "    markets = get_all_markets(exchange_client)\n",
    "    filtered_markets = filter_markets(markets)\n",
    "    all_event_data = []\n",
    "\n",
    "    for market in filtered_markets:\n",
    "        event_ticker = market.get('event_ticker', '')\n",
    "        if event_ticker:\n",
    "            event_response = get_event_data(event_ticker, exchange_client)\n",
    "            if event_response:\n",
    "                event_data = process_event_data(event_response)\n",
    "                all_event_data.extend(event_data)\n",
    "\n",
    "    if all_event_data:\n",
    "        df = pd.DataFrame(all_event_data)\n",
    "        df.to_csv('scraped_data.csv', index=False)\n",
    "        print(\"Data scraping complete. The data has been saved to 'scraped_data.csv'.\")\n",
    "    else:\n",
    "        print(\"No data to save.\")\n",
    "\n",
    "if __name__ == \"__main__\":\n",
    "    main()"
   ]
  }
 ],
 "metadata": {
  "kernelspec": {
   "display_name": "Python 3.10.6 ('poirot-vcTB4MYn-py3.10')",
   "language": "python",
   "name": "python3"
  },
  "language_info": {
   "codemirror_mode": {
    "name": "ipython",
    "version": 3
   },
   "file_extension": ".py",
   "mimetype": "text/x-python",
   "name": "python",
   "nbconvert_exporter": "python",
   "pygments_lexer": "ipython3",
   "version": "3.8.2"
  },
  "orig_nbformat": 2,
  "vscode": {
   "interpreter": {
    "hash": "1e51d4bf4e6bbe92f2ac3572d179994f6afffdaaebc6d7bcc5f1b4952a9d4584"
   }
  }
 },
 "nbformat": 4,
 "nbformat_minor": 2
}
